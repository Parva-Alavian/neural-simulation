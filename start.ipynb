{
 "cells": [
  {
   "cell_type": "code",
   "execution_count": 1,
   "metadata": {},
   "outputs": [],
   "source": [
    "# Imports\n",
    "# if any package errors out, install it using pip install <package name>\n",
    "import numpy as np\n",
    "import matplotlib.pyplot as plt\n",
    "from mpl_toolkits import mplot3d\n",
    "import sdeint\n",
    "# from pactools import Comodulogram, REFERENCES\n",
    "# from pactools import simulate_pac\n",
    "\n",
    "from src import ParameterSet\n",
    "from src import ModelBase as Model\n",
    "np.seterr(all='raise')\n"
   ]
  },
  {
   "cell_type": "code",
   "execution_count": 2,
   "metadata": {},
   "outputs": [],
   "source": [
    "\n",
    "\n",
    "def solve(f, g, y0: np.array, t: np.array):\n",
    "    y = sdeint.itoint(f, g, y0, t)\n",
    "    # return y\n",
    "    def toState(y): return Model().deserialize(y)\n",
    "    return list(map(toState, y))\n",
    "\n",
    "\n",
    "def run(t_end, dt=0.0001):\n",
    "    print(f'estimated time: {1.1 * t_end/dt / 1000} seconds')\n",
    "    t = np.linspace(0, t_end, int(t_end / dt) + 1)\n",
    "    y0 = Model()\n",
    "    y0.initialize()\n",
    "    params = ParameterSet(\"structure.json\")\n",
    "    sigma = y0.serialize_g(params)\n",
    "    g_vector = sigma * params.constants.tau_y\n",
    "\n",
    "    def model_f(y, t):\n",
    "        Y = Model().deserialize(y)\n",
    "        delta = Y.calcDelta(t, params)\n",
    "        return delta.serialize()\n",
    "\n",
    "    def model_g(y, t):\n",
    "        # Y = MyState().deserialize(y)\n",
    "        # sigma = Y.serialize_g(params)\n",
    "        # tau_y = params.constants.tau_y\n",
    "        # g = sigma * tau_y\n",
    "        return np.diag(g_vector)\n",
    "\n",
    "    res = sdeint.itoint(model_f, model_g, y0.serialize(), t)\n",
    "    def toState(y): return Model().deserialize(y)\n",
    "    return t, list(map(toState, res))\n"
   ]
  },
  {
   "cell_type": "code",
   "execution_count": 3,
   "metadata": {},
   "outputs": [
    {
     "name": "stdout",
     "output_type": "stream",
     "text": [
      "estimated time: 220.0 seconds\n"
     ]
    },
    {
     "name": "stderr",
     "output_type": "stream",
     "text": [
      "/Users/pooya/Documents/neural-simulation/src/model_base.py:87: RuntimeWarning: overflow encountered in scalar divide\n",
      "  d.r = (n._phi - n.r)/params.constants.tau_r + p.gamma\n",
      "/Users/pooya/Documents/neural-simulation/venv/lib/python3.9/site-packages/sdeint/integrate.py:509: RuntimeWarning: invalid value encountered in add\n",
      "  H20 = Yn + fnh # shape (d,)\n",
      "/Users/pooya/Documents/neural-simulation/src/model_base.py:38: RuntimeWarning: invalid value encountered in scalar multiply\n",
      "  n_dest._input += n_src.s * \\\n",
      "/Users/pooya/Documents/neural-simulation/src/model_base.py:51: RuntimeWarning: invalid value encountered in scalar multiply\n",
      "  v *= 0\n",
      "/Users/pooya/Documents/neural-simulation/src/model_base.py:94: RuntimeWarning: overflow encountered in scalar divide\n",
      "  d.y = n.y / params.constants.tau_n\n"
     ]
    }
   ],
   "source": [
    "t, res = run(20)"
   ]
  },
  {
   "cell_type": "code",
   "execution_count": null,
   "metadata": {},
   "outputs": [],
   "source": [
    "exc1_r = np.array([x.exc1.r for x in res])\n",
    "exc2_r = np.array([x.exc2.r for x in res])\n",
    "pv_r = np.array([x.pv.r for x in res])\n",
    "plt.plot(t, exc1_r)\n",
    "plt.plot(t, exc2_r)\n",
    "plt.plot(t, pv_r)"
   ]
  },
  {
   "cell_type": "code",
   "execution_count": null,
   "metadata": {},
   "outputs": [],
   "source": [
    "p = ParameterSet(\"structure.json\")"
   ]
  },
  {
   "cell_type": "code",
   "execution_count": null,
   "metadata": {},
   "outputs": [],
   "source": [
    "s=p.__flat_json__(ignore_zeros=True)\n",
    "import json\n",
    "with open('data.json','w') as f:\n",
    "    f.write(json.dumps(s))"
   ]
  },
  {
   "cell_type": "code",
   "execution_count": null,
   "metadata": {},
   "outputs": [],
   "source": []
  }
 ],
 "metadata": {
  "kernelspec": {
   "display_name": "venv",
   "language": "python",
   "name": "python3"
  },
  "language_info": {
   "codemirror_mode": {
    "name": "ipython",
    "version": 3
   },
   "file_extension": ".py",
   "mimetype": "text/x-python",
   "name": "python",
   "nbconvert_exporter": "python",
   "pygments_lexer": "ipython3",
   "version": "3.9.14"
  },
  "orig_nbformat": 4,
  "vscode": {
   "interpreter": {
    "hash": "bff242446566ea838248605db84a8eb730bd2114ff35d1f2b5dc6165e42ae450"
   }
  }
 },
 "nbformat": 4,
 "nbformat_minor": 2
}
