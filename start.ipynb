{
 "cells": [
  {
   "cell_type": "code",
   "execution_count": 1,
   "metadata": {},
   "outputs": [],
   "source": [
    "# Imports\n",
    "# if any package errors out, install it using pip install <package name>\n",
    "import numpy as np\n",
    "from scipy.integrate import odeint\n",
    "from scipy.optimize import fsolve\n",
    "import matplotlib.pyplot as plt\n",
    "from mpl_toolkits import mplot3d\n",
    "import sys\n",
    "from pytictoc import TicToc\n",
    "import math\n",
    "from random import gauss\n",
    "from random import seed\n",
    "from pandas import Series\n",
    "import sdeint\n",
    "from numpy import linalg as LA\n",
    "import itertools\n",
    "import json\n",
    "# from pactools import Comodulogram, REFERENCES\n",
    "# from pactools import simulate_pac\n"
   ]
  },
  {
   "cell_type": "code",
   "execution_count": 1,
   "metadata": {},
   "outputs": [
    {
     "data": {
      "text/plain": [
       "{'exc1': {'tau': 0.4},\n",
       " 'exc2': {},\n",
       " 'pv': {},\n",
       " 'sst1': {},\n",
       " 'sst2': {},\n",
       " 'vip1': {},\n",
       " 'vip2': {},\n",
       " 'J': {'exc1': {},\n",
       "  'exc2': {},\n",
       "  'pv': {},\n",
       "  'sst1': {},\n",
       "  'sst2': {},\n",
       "  'vip1': {},\n",
       "  'vip2': {}},\n",
       " 'J_ampa': {'exc1': {},\n",
       "  'exc2': {},\n",
       "  'pv': {},\n",
       "  'sst1': {},\n",
       "  'sst2': {},\n",
       "  'vip1': {},\n",
       "  'vip2': {}},\n",
       " 'constants': {}}"
      ]
     },
     "execution_count": 1,
     "metadata": {},
     "output_type": "execute_result"
    }
   ],
   "source": [
    "from src.param import ParameterSet\n",
    "p = ParameterSet(\"defaults.json\")\n",
    "p.exc1.tau = 0.9\n",
    "p.getDelta()"
   ]
  },
  {
   "cell_type": "code",
   "execution_count": 2,
   "metadata": {},
   "outputs": [
    {
     "data": {
      "text/plain": [
       "{\n",
       "  \"type\": \"rectangular\",\n",
       "  \"height\": 0.48,\n",
       "  \"t_start\": 0.0,\n",
       "  \"t_end\": 10.0\n",
       "}"
      ]
     },
     "execution_count": 2,
     "metadata": {},
     "output_type": "execute_result"
    }
   ],
   "source": [
    "p.exc1.I_ext.dc"
   ]
  }
 ],
 "metadata": {
  "kernelspec": {
   "display_name": "venv",
   "language": "python",
   "name": "python3"
  },
  "language_info": {
   "codemirror_mode": {
    "name": "ipython",
    "version": 3
   },
   "file_extension": ".py",
   "mimetype": "text/x-python",
   "name": "python",
   "nbconvert_exporter": "python",
   "pygments_lexer": "ipython3",
   "version": "3.10.10"
  },
  "orig_nbformat": 4,
  "vscode": {
   "interpreter": {
    "hash": "bff242446566ea838248605db84a8eb730bd2114ff35d1f2b5dc6165e42ae450"
   }
  }
 },
 "nbformat": 4,
 "nbformat_minor": 2
}
